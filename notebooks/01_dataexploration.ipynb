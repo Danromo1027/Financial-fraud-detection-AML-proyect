{
 "cells": [
  {
   "cell_type": "markdown",
   "id": "86567589",
   "metadata": {},
   "source": [
    "# ANALISIS EXPLORATORIO DE DATOS EDA"
   ]
  },
  {
   "cell_type": "markdown",
   "id": "a78ce5a1",
   "metadata": {},
   "source": [
    "### Setup y carga de datos."
   ]
  },
  {
   "cell_type": "code",
   "execution_count": 1,
   "id": "8e19b8c6",
   "metadata": {},
   "outputs": [
    {
     "name": "stdout",
     "output_type": "stream",
     "text": [
      "🔧 Entorno configurado para análisis AML\n"
     ]
    }
   ],
   "source": [
    "# Librerías esenciales para EDA de fraude\n",
    "\n",
    "import pandas as pd\n",
    "import numpy as np\n",
    "import matplotlib.pyplot as plt\n",
    "import seaborn as sns\n",
    "import sqlite3\n",
    "import warnings\n",
    "warnings.filterwarnings('ignore')\n",
    "\n",
    "# Configuración de visualización\n",
    "plt.style.use('seaborn-v0_8')\n",
    "sns.set_palette(\"husl\")\n",
    "plt.rcParams['figure.figsize'] = (12, 8)\n",
    "plt.rcParams['font.size'] = 10\n",
    "\n",
    "print(\"🔧 Entorno configurado para análisis AML\")"
   ]
  },
  {
   "cell_type": "code",
   "execution_count": 2,
   "id": "8ca431a7",
   "metadata": {},
   "outputs": [
    {
     "name": "stdout",
     "output_type": "stream",
     "text": [
      "Dataset cargado: 6,362,620 transacciones\n",
      "Fraudes detectados: 8,213 (0.13%)\n"
     ]
    }
   ],
   "source": [
    "\n",
    "# Cargar el archivo CSV y Cargar a SQLite\n",
    "\n",
    "csv   = pd.read_csv    (r'C:\\Users\\User\\Desktop\\PORTAFOLIO\\Detección de Actividades Sospechosas con SQL + Python\\data\\Synthetic_Financial_datasets_log.csv')\n",
    "conn = sqlite3.connect(r'C:\\Users\\User\\Desktop\\PORTAFOLIO\\Detección de Actividades Sospechosas con SQL + Python\\data\\fraud_detection.db')\n",
    "csv.to_sql('transactions', conn, index=False, if_exists='replace')\n",
    "\n",
    "print(f\"Dataset cargado: {len(csv):,} transacciones\")\n",
    "print(f\"Fraudes detectados: {csv['isFraud'].sum():,} ({csv['isFraud'].mean()*100:.2f}%)\")"
   ]
  },
  {
   "cell_type": "code",
   "execution_count": 99,
   "id": "544c6d5f",
   "metadata": {},
   "outputs": [
    {
     "name": "stdout",
     "output_type": "stream",
     "text": [
      "📊 INFORMACIÓN BÁSICA DEL DATASET\n",
      "==================================================\n",
      "Filas: 100,000\n",
      "Columnas: 11\n",
      "Memoria: 22.83 MB\n",
      "\n",
      " PRIMERAS 5 TRANSACCIONES:\n",
      "   step      type     amount    nameOrig  oldbalanceOrg  newbalanceOrig  \\\n",
      "0    16  CASH_OUT   80713.18  C987135310       11972.00            0.00   \n",
      "1   327   PAYMENT    2620.74  C868083873       99888.64        97267.90   \n",
      "2    22   PAYMENT    9125.75  C766742839       32270.00        23144.25   \n",
      "3    18   PAYMENT    6845.81   C17727535           0.00            0.00   \n",
      "4   229  TRANSFER  246533.99  C839284014           0.00            0.00   \n",
      "\n",
      "      nameDest  oldbalanceDest  newbalanceDest  isFraud  isFlaggedFraud  \n",
      "0  C1977611839            0.00        80713.18        0               0  \n",
      "1   M548151467            0.00            0.00        0               0  \n",
      "2   M582035300            0.00            0.00        0               0  \n",
      "3  M1168990530            0.00            0.00        0               0  \n",
      "4  C1758006398       404663.01       651196.99        0               0  \n",
      "\n",
      " TIPOS DE DATOS:\n",
      "step                int64\n",
      "type               object\n",
      "amount            float64\n",
      "nameOrig           object\n",
      "oldbalanceOrg     float64\n",
      "newbalanceOrig    float64\n",
      "nameDest           object\n",
      "oldbalanceDest    float64\n",
      "newbalanceDest    float64\n",
      "isFraud             int64\n",
      "isFlaggedFraud      int64\n",
      "dtype: object\n",
      "\n",
      " VALORES NULOS:\n",
      "step              0\n",
      "type              0\n",
      "amount            0\n",
      "nameOrig          0\n",
      "oldbalanceOrg     0\n",
      "newbalanceOrig    0\n",
      "nameDest          0\n",
      "oldbalanceDest    0\n",
      "newbalanceDest    0\n",
      "isFraud           0\n",
      "isFlaggedFraud    0\n",
      "dtype: int64\n"
     ]
    }
   ],
   "source": [
    "# Cargar dataset desde SQLite\n",
    "conn = conn = sqlite3.connect(r'C:\\Users\\User\\Desktop\\PORTAFOLIO\\Detección de Actividades Sospechosas con SQL + Python\\data\\fraud_detection.db')\n",
    "\n",
    "\n",
    "# Cargar muestra inicial para exploración rápida\n",
    "df_sample = pd.read_sql_query(\"\"\"\n",
    "    SELECT * FROM transactions \n",
    "    ORDER BY RANDOM() \n",
    "    LIMIT 100000\n",
    "\"\"\", conn)\n",
    "\n",
    "# Información básica del dataset\n",
    "print(\"📊 INFORMACIÓN BÁSICA DEL DATASET\")\n",
    "print(\"=\"*50)\n",
    "print(f\"Filas: {len(df_sample):,}\")\n",
    "print(f\"Columnas: {len(df_sample.columns)}\")\n",
    "print(f\"Memoria: {df_sample.memory_usage(deep=True).sum() / 1024**2:.2f} MB\")\n",
    "\n",
    "# Primeras filas\n",
    "print(\"\\n PRIMERAS 5 TRANSACCIONES:\")\n",
    "print(df_sample.head())\n",
    "\n",
    "# Tipos de datos\n",
    "print(\"\\n TIPOS DE DATOS:\")\n",
    "print(df_sample.dtypes)\n",
    "\n",
    "# Valores nulos\n",
    "print(\"\\n VALORES NULOS:\")\n",
    "print(df_sample.isnull().sum())"
   ]
  },
  {
   "cell_type": "markdown",
   "id": "143635cb",
   "metadata": {},
   "source": [
    "### FRAUDE POR TIPO DE TRANSACCION"
   ]
  },
  {
   "cell_type": "code",
   "execution_count": null,
   "id": "5090547a",
   "metadata": {},
   "outputs": [],
   "source": [
    "# Análisis de fraude por tipo de transacción\n",
    "fraud_by_type = df_sample.groupby('type').agg({\n",
    "    'isFraud': ['count', 'sum', 'mean'],\n",
    "    'amount': ['mean', 'sum']\n",
    "}).round(4)\n",
    "\n",
    "fraud_by_type.columns = ['Total_Txns', 'Fraud_Count', 'Fraud_Rate', 'Avg_Amount', 'Total_Amount']\n",
    "fraud_by_type = fraud_by_type.sort_values('Fraud_Rate', ascending=False)\n",
    "\n",
    "print(\"🔍 FRAUDE POR TIPO DE TRANSACCIÓN:\")\n",
    "print(\"=\"*60)\n",
    "print(fraud_by_type)\n",
    "\n",
    "# Visualización\n",
    "fig, axes = plt.subplots(1, 1, figsize=(12, 10))\n",
    "\n",
    "# Gráfico 1: Tasa de fraude por tipo\n",
    "fraud_by_type['Fraud_Rate'].plot(kind='bar', ax=axes, color='red', alpha=0.7)\n",
    "axes.set_title('Tasa de Fraude por Tipo de Transacción')\n",
    "axes.set_ylabel('Tasa de Fraude')\n",
    "axes.tick_params(axis='x', rotation=45)\n",
    "\n",
    "plt.tight_layout()\n",
    "plt.show()\n",
    "\n",
    "print(\"\\n INSIGHTS:\")\n",
    "print(\"- TRANSFER y CASH_OUT tienen las tasas de fraude más altas\")\n",
    "print(\"- PAYMENT tiene volumen alto pero baja tasa de fraude\")"
   ]
  },
  {
   "cell_type": "markdown",
   "id": "09e8a58a",
   "metadata": {},
   "source": [
    "### ANALISIS TEMPORAL DE FRAUDE"
   ]
  },
  {
   "cell_type": "code",
   "execution_count": null,
   "id": "b51514f4",
   "metadata": {},
   "outputs": [
    {
     "name": "stdout",
     "output_type": "stream",
     "text": [
      " ANÁLISIS TEMPORAL\n",
      "==================================================\n",
      "PATRONES POR HORA DEL DÍA:\n",
      "      Total_Txns  Fraud_Count  Fraud_Rate\n",
      "hour                                     \n",
      "0           1128            3      0.0027\n",
      "1            443            6      0.0135\n",
      "2            138            9      0.0652\n",
      "3             35            6      0.1714\n",
      "4             21            4      0.1905\n",
      "5             21            7      0.3333\n",
      "6             55            5      0.0909\n",
      "7            137            5      0.0365\n",
      "8            371            7      0.0189\n",
      "9           4456            3      0.0007\n"
     ]
    },
    {
     "data": {
      "image/png": "[encoded data removed]",
      "text/plain": [
       "<Figure size 1200x600 with 1 Axes>"
      ]
     },
     "metadata": {},
     "output_type": "display_data"
    },
    {
     "name": "stdout",
     "output_type": "stream",
     "text": [
      "\n",
      " INSIGHTS TEMPORALES:\n",
      "- Identificamos horas del día con mayor actividad fraudulenta\n",
      "- Detectamos actividad sospechosa fuera de horarios comerciales\n"
     ]
    }
   ],
   "source": [
    "# Análisis temporal (simulado ya que PaySim usa steps, no timestamps reales)\n",
    "print(\" ANÁLISIS TEMPORAL\")\n",
    "print(\"=\"*50)\n",
    "\n",
    "# Crear timestamp simulado basado en step\n",
    "base_date = pd.Timestamp('2024-01-01')\n",
    "df_sample['timestamp'] = base_date + pd.to_timedelta(df_sample['step'], unit='h')\n",
    "df_sample['hour'] = df_sample['timestamp'].dt.hour\n",
    "df_sample['day_of_week'] = df_sample['timestamp'].dt.dayofweek\n",
    "\n",
    "# Análisis por hora del día\n",
    "hourly_fraud = df_sample.groupby('hour').agg({\n",
    "    'isFraud': ['count', 'sum', 'mean']\n",
    "}).round(4)\n",
    "\n",
    "hourly_fraud.columns = ['Total_Txns', 'Fraud_Count', 'Fraud_Rate']\n",
    "\n",
    "print(\"PATRONES POR HORA DEL DÍA:\")\n",
    "print(hourly_fraud.head(10))\n",
    "\n",
    "# Visualización\n",
    "fig, ax = plt.subplots(figsize=(12, 6))\n",
    "hourly_fraud['Fraud_Rate'].plot(kind='line', ax=ax, marker='o', color='red')\n",
    "ax.set_title('Tasa de Fraude por Hora del Día')\n",
    "ax.set_xlabel('Hora')\n",
    "ax.set_ylabel('Tasa de Fraude')\n",
    "ax.grid(True, alpha=0.3)\n",
    "plt.show()\n",
    "\n",
    "print(\"\\n INSIGHTS :\")\n",
    "print(\"- Identificamos horas del día con mayor actividad fraudulenta\")\n",
    "print(\"- Detectamos actividad sospechosa fuera de horarios comerciales\")"
   ]
  }
 ],
 "metadata": {
  "kernelspec": {
   "display_name": "Python 3",
   "language": "python",
   "name": "python3"
  },
  "language_info": {
   "codemirror_mode": {
    "name": "ipython",
    "version": 3
   },
   "file_extension": ".py",
   "mimetype": "text/x-python",
   "name": "python",
   "nbconvert_exporter": "python",
   "pygments_lexer": "ipython3",
   "version": "3.12.10"
  }
 },
 "nbformat": 4,
 "nbformat_minor": 5
}
