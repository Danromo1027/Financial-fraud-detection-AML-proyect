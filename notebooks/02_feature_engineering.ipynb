{
 "cells": [
  {
   "cell_type": "markdown",
   "id": "7b90998c",
   "metadata": {},
   "source": [
    "# FEATURE ENGINEERING AND RED FLAGS"
   ]
  },
  {
   "cell_type": "markdown",
   "id": "0c630561",
   "metadata": {
    "slideshow": {
     "slide_type": "notes"
    }
   },
   "source": [
    "### Features Basadas en Red Flags AML\n",
    "\n",
    "####  Round Amount Detection\n",
    "\n",
    "Detecta montos \"redondos\" que son típicos en lavado de dinero\n",
    "\n"
   ]
  },
  {
   "cell_type": "code",
   "execution_count": 1,
   "id": "cc092335",
   "metadata": {},
   "outputs": [],
   "source": [
    "from src.utils import get_sample_data\n",
    "\n",
    "df_sample = get_sample_data()\n",
    "\n"
   ]
  },
  {
   "cell_type": "code",
   "execution_count": null,
   "id": "c4319523",
   "metadata": {},
   "outputs": [],
   "source": [
    "from src.feature_engineerings import create_round_amount_features\n",
    "\n",
    "# Aplicar\n",
    "df = create_round_amount_features(df_sample)\n",
    "\n",
    "# Validar efectividad\n",
    "round_fraud_rate = df[df['round_10000'] == 1]['isFraud'].mean()\n",
    "normal_fraud_rate = df[df['round_10000'] == 0]['isFraud'].mean()\n",
    "print(f\"Montos redondos: {round_fraud_rate:.4f} vs Normal: {normal_fraud_rate:.4f}\")\n",
    "print(f\"Factor de riesgo: {round_fraud_rate/normal_fraud_rate:.1f}x más probable\")"
   ]
  },
  {
   "cell_type": "markdown",
   "id": "ca6b8f0a",
   "metadata": {},
   "source": [
    "## Balance Inconsistency Detection\n",
    "\n",
    "Detecta cuando los saldos no cuadran matemáticamente (señal de manipulación)\n",
    "\n"
   ]
  },
  {
   "cell_type": "code",
   "execution_count": 3,
   "id": "34ccfec8",
   "metadata": {},
   "outputs": [
    {
     "name": "stdout",
     "output_type": "stream",
     "text": [
      "Inconsistencias: 0.0007 vs Consistentes: 0.0112\n"
     ]
    }
   ],
   "source": [
    "from src.feature_engineerings import create_balance_features\n",
    "\n",
    "# Aplicar\n",
    "df = create_balance_features(df_sample)\n",
    "\n",
    "# Análisis de efectividad\n",
    "inconsistent_fraud = df[df['total_inconsistency'] > 0]['isFraud'].mean()\n",
    "consistent_fraud = df[df['total_inconsistency'] == 0]['isFraud'].mean()\n",
    "print(f\"Inconsistencias: {inconsistent_fraud:.4f} vs Consistentes: {consistent_fraud:.4f}\")"
   ]
  },
  {
   "cell_type": "markdown",
   "id": "08ccc54b",
   "metadata": {},
   "source": [
    "## Velocity Banking Detection\n",
    "\n",
    "Detecta cuando los saldos no cuadran matemáticamente (señal de manipulación)\n",
    "Identifica layering (fondos que se mueven muy rápido)\n",
    "\n"
   ]
  },
  {
   "cell_type": "code",
   "execution_count": 4,
   "id": "226e295b",
   "metadata": {},
   "outputs": [
    {
     "name": "stdout",
     "output_type": "stream",
     "text": [
      "Inconsistencias: 0.0007 vs Consistentes: 0.0112\n"
     ]
    }
   ],
   "source": [
    "from src.feature_engineerings import create_balance_features\n",
    "# Aplicar\n",
    "df = create_balance_features(df_sample)\n",
    "\n",
    "# Análisis de efectividad\n",
    "inconsistent_fraud = df[df['total_inconsistency'] > 0]['isFraud'].mean()\n",
    "consistent_fraud = df[df['total_inconsistency'] == 0]['isFraud'].mean()\n",
    "print(f\"Inconsistencias: {inconsistent_fraud:.4f} vs Consistentes: {consistent_fraud:.4f}\")"
   ]
  },
  {
   "cell_type": "markdown",
   "id": "305698c7",
   "metadata": {},
   "source": [
    "## Suspicious Pattern Detection\n",
    "\n",
    "Detecta patrones de comportamiento anómalos típicos de fraude\n",
    "\n"
   ]
  },
  {
   "cell_type": "code",
   "execution_count": 5,
   "id": "34efbbe0",
   "metadata": {},
   "outputs": [
    {
     "name": "stdout",
     "output_type": "stream",
     "text": [
      "Análisis de patrones sospechosos:\n",
      "off_hours  suspicious_frequency\n",
      "0          0                       0.000760\n",
      "1          0                       0.008689\n",
      "Name: isFraud, dtype: float64\n"
     ]
    }
   ],
   "source": [
    "from src.feature_engineerings import create_pattern_features\n",
    "\n",
    "# Aplicar  \n",
    "df = create_pattern_features(df_sample)\n",
    "\n",
    "# Análisis de patrones\n",
    "pattern_analysis = df.groupby(['off_hours', 'suspicious_frequency'])['isFraud'].mean()\n",
    "print(\"Análisis de patrones sospechosos:\")\n",
    "print(pattern_analysis)"
   ]
  },
  {
   "cell_type": "markdown",
   "id": "7ce6ee40",
   "metadata": {},
   "source": [
    "# 📊 Features Estadísticas\n"
   ]
  },
  {
   "cell_type": "markdown",
   "id": "8f0ba814",
   "metadata": {},
   "source": [
    "## Statistical Anomaly Detection\n",
    "\n",
    "- Detecta transacciones que son estadísticamente anómalas. \n",
    "- Z-scores > 3 tienen 10x más probabilidad de ser investigados\n",
    "\n"
   ]
  },
  {
   "cell_type": "code",
   "execution_count": 6,
   "id": "2c447f7b",
   "metadata": {},
   "outputs": [
    {
     "name": "stdout",
     "output_type": "stream",
     "text": [
      "Z-scores extremos: 0.0314 vs Normal: 0.0008\n"
     ]
    }
   ],
   "source": [
    "from src.feature_engineerings import create_statistical_features\n",
    "\n",
    "\n",
    "# Aplicar\n",
    "df = create_statistical_features(df_sample)\n",
    "\n",
    "# Validación de anomalías\n",
    "extreme_fraud = df[df['extreme_z_score'] == 1]['isFraud'].mean()\n",
    "normal_fraud = df[df['extreme_z_score'] == 0]['isFraud'].mean()\n",
    "print(f\"Z-scores extremos: {extreme_fraud:.4f} vs Normal: {normal_fraud:.4f}\")"
   ]
  },
  {
   "cell_type": "markdown",
   "id": "836f0e6f",
   "metadata": {},
   "source": [
    "## Rolling Window Features\n",
    "\n",
    "Comportamiento vs historial del cliente"
   ]
  },
  {
   "cell_type": "code",
   "execution_count": 7,
   "id": "e8dbf9eb",
   "metadata": {},
   "outputs": [
    {
     "name": "stdout",
     "output_type": "stream",
     "text": [
      "Inusual vs historia: nan vs Normal: 0.0011\n"
     ]
    }
   ],
   "source": [
    "from src.feature_engineerings import create_rolling_features\n",
    "\n",
    "# Aplicar\n",
    "df = create_rolling_features(df_sample)\n",
    "\n",
    "# Análisis de efectividad\n",
    "unusual_fraud = df[df['unusual_vs_history_10'] == 1]['isFraud'].mean()\n",
    "normal_fraud = df[df['unusual_vs_history_10'] == 0]['isFraud'].mean()\n",
    "print(f\"Inusual vs historia: {unusual_fraud:.4f} vs Normal: {normal_fraud:.4f}\")"
   ]
  },
  {
   "cell_type": "markdown",
   "id": "fad7410c",
   "metadata": {},
   "source": [
    "## Categorical Encoding\n",
    "\n",
    "Convertir variables categóricas a formato numérico"
   ]
  },
  {
   "cell_type": "code",
   "execution_count": 8,
   "id": "48561481",
   "metadata": {},
   "outputs": [
    {
     "name": "stdout",
     "output_type": "stream",
     "text": [
      "Categorical features encoded:\n",
      "Total features: 55\n",
      "Variables categóricas codificadas exitosamente\n",
      "   hour_of_day  off_hours  hour_sin      hour_cos\n",
      "0           18          0 -1.000000 -1.836970e-16\n",
      "1           15          0 -0.707107 -7.071068e-01\n",
      "2           13          0 -0.258819 -9.659258e-01\n",
      "3           15          0 -0.707107 -7.071068e-01\n",
      "4           19          0 -0.965926  2.588190e-01\n"
     ]
    }
   ],
   "source": [
    "from src.feature_engineerings import encode_categorical_features\n",
    "\n",
    "# Aplicar\n",
    "df, label_encoder = encode_categorical_features(df_sample)\n",
    "print(\"Variables categóricas codificadas exitosamente\")\n",
    "#print(f\"Total de variables: {type(df)}\")\n",
    "print(df[[col for col in df.columns if 'hour' in col]].head())\n",
    "\n"
   ]
  },
  {
   "cell_type": "markdown",
   "id": "74b15a43",
   "metadata": {},
   "source": [
    "## Feature Scaling & Normalization\n",
    "\n",
    "Normalizar escalas para algoritmos ML"
   ]
  },
  {
   "cell_type": "code",
   "execution_count": 9,
   "id": "85e53d8f",
   "metadata": {},
   "outputs": [
    {
     "name": "stdout",
     "output_type": "stream",
     "text": [
      "Features escaladas: 42 variables\n",
      "Training set: 80000 muestras\n",
      "Test set: 20000 muestras\n",
      "Tasa de fraude train: 0.0011\n",
      "Tasa de fraude test: 0.0010\n"
     ]
    }
   ],
   "source": [
    "from src.feature_engineerings import  scale_features\n",
    "# Aplicar\n",
    "X_train, X_test, y_train, y_test, scaler = scale_features(df_sample)"
   ]
  },
  {
   "cell_type": "markdown",
   "id": "3d6b5d3e",
   "metadata": {},
   "source": [
    "## Feature Selection & Importance\n",
    "\n",
    "Seleccionar las features más importantes para detección"
   ]
  },
  {
   "cell_type": "code",
   "execution_count": 10,
   "id": "70e94a1a",
   "metadata": {},
   "outputs": [
    {
     "name": "stdout",
     "output_type": "stream",
     "text": [
      "🔥 TOP 15 FEATURES MÁS IMPORTANTES:\n",
      "==================================================\n",
      " 1. balance_inconsistent_orig 0.2017\n",
      " 2. balance_error_orig        0.1639\n",
      " 3. account_drained           0.1376\n",
      " 4. oldbalanceOrg             0.0597\n",
      " 5. total_inconsistency       0.0594\n",
      " 6. newbalanceOrig            0.0585\n",
      " 7. log_z_score               0.0351\n",
      " 8. amount_percentile         0.0272\n",
      " 9. type_encoded              0.0256\n",
      "10. z_score_amount            0.0242\n",
      "11. amount                    0.0221\n",
      "12. z_score_PAYMENT           0.0215\n",
      "13. log_amount                0.0208\n",
      "14. step                      0.0182\n",
      "15. hour_of_day               0.0143\n",
      "16. top_5_percent             0.0142\n",
      "17. z_score_CASH_OUT          0.0131\n",
      "18. newbalanceDest            0.0129\n",
      "19. z_score_TRANSFER          0.0108\n",
      "20. balance_error_dest        0.0098\n",
      "\n",
      "✅ 20 features seleccionadas automáticamente\n",
      "\n",
      "🎯 Dataset final: 20 features\n",
      "Listo para entrenamiento de modelos ML!\n"
     ]
    },
    {
     "name": "stderr",
     "output_type": "stream",
     "text": [
      "C:\\Users\\User\\AppData\\Local\\Packages\\PythonSoftwareFoundation.Python.3.12_qbz5n2kfra8p0\\LocalCache\\local-packages\\Python312\\site-packages\\sklearn\\feature_selection\\_univariate_selection.py:110: UserWarning: Features [25 27] are constant.\n",
      "  warnings.warn(\"Features %s are constant.\" % constant_features_idx, UserWarning)\n",
      "C:\\Users\\User\\AppData\\Local\\Packages\\PythonSoftwareFoundation.Python.3.12_qbz5n2kfra8p0\\LocalCache\\local-packages\\Python312\\site-packages\\sklearn\\feature_selection\\_univariate_selection.py:111: RuntimeWarning: invalid value encountered in divide\n",
      "  f = msb / msw\n"
     ]
    }
   ],
   "source": [
    "\n",
    "from src.feature_engineerings import  select_important_features\n",
    "# Aplicar\n",
    "feature_importance, selected_features, selector = select_important_features(X_train, y_train)\n",
    "\n",
    "# Crear dataset final optimizado\n",
    "X_train_final = X_train[selected_features]\n",
    "X_test_final  = X_test[selected_features]\n",
    "\n",
    "print(f\"\\n🎯 Dataset final: {X_train_final.shape[1]} features\")\n",
    "print(\"Listo para entrenamiento de modelos ML!\")\n"
   ]
  }
 ],
 "metadata": {
  "kernelspec": {
   "display_name": "Python 3",
   "language": "python",
   "name": "python3"
  },
  "language_info": {
   "codemirror_mode": {
    "name": "ipython",
    "version": 3
   },
   "file_extension": ".py",
   "mimetype": "text/x-python",
   "name": "python",
   "nbconvert_exporter": "python",
   "pygments_lexer": "ipython3",
   "version": "3.12.10"
  }
 },
 "nbformat": 4,
 "nbformat_minor": 5
}
